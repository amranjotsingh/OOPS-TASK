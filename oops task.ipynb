{
 "cells": [
  {
   "cell_type": "code",
   "execution_count": 1,
   "id": "37b37b71-e18a-4145-82b5-b1f75644f7a6",
   "metadata": {},
   "outputs": [],
   "source": [
    "#  Q-1 Create a vehicle class with an init method having instance variables as name_of_vehicle, max_speed\n",
    "# and average_of_vehicle."
   ]
  },
  {
   "cell_type": "code",
   "execution_count": 1,
   "id": "b36910be-e055-41ff-9f5c-ca109a4e2785",
   "metadata": {},
   "outputs": [],
   "source": [
    "class vehicle:\n",
    "    \n",
    "    def __init__(self, name_of_vehicle, max_speed, average_of_vehicle):\n",
    "        self.name_of_vehicle = name_of_vehicle\n",
    "        self.max_speed = max_speed\n",
    "        self.average_of_vehicle = average_of_vehicle\n",
    "        \n",
    "        \n",
    "    def vehicle_info(self):\n",
    "        return self.name_of_vehicle, self.max_speed, self.average_of_vehicle\n",
    "        "
   ]
  },
  {
   "cell_type": "code",
   "execution_count": 2,
   "id": "68d2854b-4bbd-46fc-a884-a51d815ca876",
   "metadata": {},
   "outputs": [],
   "source": [
    "# Q-2 Create a child class car from the vehicle class created in Que 1, which will inherit the vehicle class.\n",
    "#  Create a method named seating_capacity which takes capacity as an argument and returns the name of\n",
    "#  the vehicle and its seating capacity."
   ]
  },
  {
   "cell_type": "code",
   "execution_count": 24,
   "id": "51857a7e-8134-426a-9c97-8baaeb13367a",
   "metadata": {},
   "outputs": [],
   "source": [
    "class car(vehicle):\n",
    "    def seating_capacity_info(self, capacity):\n",
    "        self.capacity = capacity\n",
    "        return self.capacity , self.name_of_vehicle"
   ]
  },
  {
   "cell_type": "code",
   "execution_count": 25,
   "id": "0bace8f2-7433-43dd-80a2-66a033d70e89",
   "metadata": {},
   "outputs": [],
   "source": [
    "alto = car(\"alto\",100,22)"
   ]
  },
  {
   "cell_type": "code",
   "execution_count": null,
   "id": "04399f99-fe92-4fbd-9c38-8a4a29bc55ba",
   "metadata": {},
   "outputs": [
    {
     "data": {
      "text/plain": [
       "(5, 'alto')"
      ]
     },
     "execution_count": 26,
     "metadata": {},
     "output_type": "execute_result"
    }
   ],
   "source": [
    "alto.seating_capacity_info(5)"
   ]
  },
  {
   "cell_type": "code",
   "execution_count": null,
   "id": "16b11a30-2399-4be3-9b0e-82a33534ff78",
   "metadata": {},
   "outputs": [],
   "source": [
    "# Q-3 What is multiple inheritance? Write a python code to demonstrate multiple inheritance."
   ]
  },
  {
   "cell_type": "code",
   "execution_count": null,
   "id": "f21b8117-720c-4267-80a9-9a4581c69acc",
   "metadata": {},
   "outputs": [],
   "source": [
    "#  Multiple inheritance is a feature of object-oriented programming languages \n",
    "# that allows a class to inherit properties and behavior from multiple parent classes"
   ]
  },
  {
   "cell_type": "code",
   "execution_count": 85,
   "id": "f99a59be-f557-4504-8997-a35bee227f0a",
   "metadata": {},
   "outputs": [],
   "source": [
    "class parent1:\n",
    "    def method1(self):\n",
    "        print(\"This is my parent 1 class\")\n",
    "        \n",
    "        \n",
    "class parent2:\n",
    "    def method2(self):\n",
    "        print(\"This is my parent 2 class\")\n",
    "        \n",
    "        \n",
    "class child(parent1,parent2):\n",
    "    def method3(self):\n",
    "        print(\"This is my child class\")       \n"
   ]
  },
  {
   "cell_type": "code",
   "execution_count": 90,
   "id": "6d42d3e5-504d-4cbb-85b2-c5b249091b93",
   "metadata": {},
   "outputs": [],
   "source": [
    "a = child()"
   ]
  },
  {
   "cell_type": "code",
   "execution_count": 91,
   "id": "9440ee87-fa0a-412d-a4c0-4070cfb7ee40",
   "metadata": {},
   "outputs": [
    {
     "name": "stdout",
     "output_type": "stream",
     "text": [
      "This is my parent 1 class\n"
     ]
    }
   ],
   "source": [
    "a.method1()"
   ]
  },
  {
   "cell_type": "code",
   "execution_count": 92,
   "id": "d81ba9b5-a73f-4d13-8977-ece0c9703c22",
   "metadata": {},
   "outputs": [
    {
     "name": "stdout",
     "output_type": "stream",
     "text": [
      "This is my child class\n"
     ]
    }
   ],
   "source": [
    "a.method3()"
   ]
  },
  {
   "cell_type": "code",
   "execution_count": 66,
   "id": "26968bc8-df49-4db6-8f3d-33a98e0bcfd1",
   "metadata": {},
   "outputs": [],
   "source": [
    "# Q-4 What are getter and setter in python? Create a class and create a getter and a setter method in this\n",
    "# class."
   ]
  },
  {
   "cell_type": "code",
   "execution_count": null,
   "id": "f3a9cd85-5ae1-493f-ad91-494ca4306e8f",
   "metadata": {},
   "outputs": [],
   "source": [
    "# In Python, getters and setters are methods used to access and modify class attributes. These methods are used to enforce encapsulation, \n",
    "# which is a fundamental principle of object-oriented programming.\n",
    "# A getter is a method that retrieves the value of a class attribute. \n",
    "# It is usually named with the prefix get, followed by the name of the attribute it retrieves. For example:"
   ]
  },
  {
   "cell_type": "code",
   "execution_count": 106,
   "id": "d9eb2311-3612-4023-b761-f22a2d6e7769",
   "metadata": {},
   "outputs": [],
   "source": [
    "class Private_info:\n",
    "    \n",
    "    def __init__(self,name,phone_no):\n",
    "        self.__name = name\n",
    "        self.__phone_no = phone_no\n",
    "        \n",
    "    def get_name(self):\n",
    "        return self.__name\n",
    "    \n",
    "    def set_name(self,name):\n",
    "        self.__name = name\n",
    "        return name\n",
    "    \n",
    "    \n",
    "    def get_phone_no(self):\n",
    "        return self.__phone_no\n",
    "    \n",
    "    def set_phone_no(self,phone_no):\n",
    "        self.phone__no = phone_no\n",
    "        return phone_no\n",
    "        \n",
    "    def return_info(self):\n",
    "        return self.name, self.phone_no"
   ]
  },
  {
   "cell_type": "code",
   "execution_count": 107,
   "id": "0976124b-c7df-4645-975f-4768aae2f7a6",
   "metadata": {},
   "outputs": [],
   "source": [
    "first = Private_info(\"Ranjot\",7888606878)"
   ]
  },
  {
   "cell_type": "code",
   "execution_count": 110,
   "id": "1b96e9f4-2293-4be6-80ba-97657eb589fa",
   "metadata": {},
   "outputs": [],
   "source": [
    "# Q5.What is method overriding in python? Write a python code to demonstrate method overriding."
   ]
  },
  {
   "cell_type": "code",
   "execution_count": 111,
   "id": "e8d27b7c-972f-4e9a-96c7-f8bbae154afe",
   "metadata": {},
   "outputs": [],
   "source": [
    "# In Python, method overriding is a feature of object-oriented programming \n",
    "# that allows a subclass to provide a different implementation for a method that is already defined in its superclass.\n",
    "# When a subclass defines a method with the same name as a method in its superclass, \n",
    "# the method in the subclass overrides the method in the superclass. \n",
    "# This means that when an instance of the subclass calls the overridden method, \n",
    "# the implementation in the subclass is used instead of the implementation in the superclass, for example:-"
   ]
  },
  {
   "cell_type": "code",
   "execution_count": 123,
   "id": "029d9841-2f2a-43d4-91bd-e30f8b88c1da",
   "metadata": {},
   "outputs": [],
   "source": [
    "class Animal:\n",
    "    def make_sound(self):\n",
    "        print(\"The animal makes a sound.\")\n",
    "        \n",
    "class Cat(Animal):\n",
    "    def make_sound(self):\n",
    "        print(\"The cat meows.\")\n"
   ]
  },
  {
   "cell_type": "code",
   "execution_count": 125,
   "id": "4a118dfe-4e5d-4377-91ce-1caa8f8cf13a",
   "metadata": {},
   "outputs": [],
   "source": [
    "my_cat = Cat()"
   ]
  },
  {
   "cell_type": "code",
   "execution_count": 128,
   "id": "d95dbc89-ee4f-4958-a030-2718df3d7be8",
   "metadata": {},
   "outputs": [
    {
     "name": "stdout",
     "output_type": "stream",
     "text": [
      "The cat meows.\n"
     ]
    }
   ],
   "source": [
    "my_cat.make_sound()"
   ]
  },
  {
   "cell_type": "code",
   "execution_count": null,
   "id": "af94c6e2-2595-4fc8-8b94-e96152452c49",
   "metadata": {},
   "outputs": [],
   "source": []
  }
 ],
 "metadata": {
  "kernelspec": {
   "display_name": "Python 3 (ipykernel)",
   "language": "python",
   "name": "python3"
  },
  "language_info": {
   "codemirror_mode": {
    "name": "ipython",
    "version": 3
   },
   "file_extension": ".py",
   "mimetype": "text/x-python",
   "name": "python",
   "nbconvert_exporter": "python",
   "pygments_lexer": "ipython3",
   "version": "3.10.8"
  }
 },
 "nbformat": 4,
 "nbformat_minor": 5
}
